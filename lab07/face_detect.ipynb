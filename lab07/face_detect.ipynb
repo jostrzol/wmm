{
  "nbformat": 4,
  "nbformat_minor": 0,
  "metadata": {
    "colab": {
      "name": "face_detect.ipynb",
      "provenance": [],
      "collapsed_sections": [],
      "toc_visible": true
    },
    "kernelspec": {
      "name": "python3",
      "display_name": "Python 3"
    },
    "language_info": {
      "name": "python"
    },
    "accelerator": "GPU"
  },
  "cells": [
    {
      "cell_type": "markdown",
      "metadata": {
        "id": "WZln09l59xoe"
      },
      "source": [
        "# Analiza obrazu - detekcja twarzy"
      ]
    },
    {
      "cell_type": "code",
      "metadata": {
        "id": "W5MZZR3fB8Ke"
      },
      "source": [
        "import cv2\n",
        "from google.colab.patches import cv2_imshow\n",
        "\n",
        "import dlib"
      ],
      "execution_count": null,
      "outputs": []
    },
    {
      "cell_type": "markdown",
      "metadata": {
        "id": "fcp9Z1Bb4LbJ"
      },
      "source": [
        "## Inicjalizacja - pobranie obrazu testowego i modeli dla detektorów twarzy"
      ]
    },
    {
      "cell_type": "code",
      "metadata": {
        "id": "YOEcibLF4TjE"
      },
      "source": [
        "# https://drive.google.com/file/d/1gn7itC80mnmp9TSK8PHMEZSKMOuBVUEQ/view?usp=sharing\n",
        "!gdown --id 1gn7itC80mnmp9TSK8PHMEZSKMOuBVUEQ"
      ],
      "execution_count": null,
      "outputs": []
    },
    {
      "cell_type": "code",
      "metadata": {
        "id": "m_azgpXm6ACI"
      },
      "source": [
        "# https://drive.google.com/file/d/1UoFK0Jl7tY1z0ykdlvaxkFmyUR8lmLul/view?usp=sharing\n",
        "\n",
        "!gdown --id 1UoFK0Jl7tY1z0ykdlvaxkFmyUR8lmLul"
      ],
      "execution_count": null,
      "outputs": []
    },
    {
      "cell_type": "code",
      "metadata": {
        "id": "fZ-hsrIy8FI5"
      },
      "source": [
        "# https://drive.google.com/file/d/1tb4P8NEcwTnja182AFDDnXM5ijTNQwj_/view?usp=sharing\n",
        "!gdown --id 1tb4P8NEcwTnja182AFDDnXM5ijTNQwj_"
      ],
      "execution_count": null,
      "outputs": []
    },
    {
      "cell_type": "markdown",
      "metadata": {
        "id": "sXg8NpwX66mg"
      },
      "source": [
        "### Weryfikacja pobranych danych"
      ]
    },
    {
      "cell_type": "code",
      "metadata": {
        "id": "W79bINBR5Zvj"
      },
      "source": [
        "# 0f8c44e5e564e71d95bb3f5247ebae20  2_Demonstration_Demonstration_Or_Protest_2_1.jpg\n",
        "!md5sum 2_Demonstration_Demonstration_Or_Protest_2_1.jpg"
      ],
      "execution_count": null,
      "outputs": []
    },
    {
      "cell_type": "code",
      "metadata": {
        "id": "dweH1A0I6_mO"
      },
      "source": [
        "# a03f92a797e309e76e6a034ab9e02616  haarcascade_frontalface_default.xml\n",
        "!md5sum haarcascade_frontalface_default.xml"
      ],
      "execution_count": null,
      "outputs": []
    },
    {
      "cell_type": "code",
      "metadata": {
        "id": "imzKdmEK9GHo"
      },
      "source": [
        "# 2ac022385c5a56f8313ca9827ff76c3d  mmod_human_face_detector.dat\n",
        "!md5sum mmod_human_face_detector.dat"
      ],
      "execution_count": null,
      "outputs": []
    },
    {
      "cell_type": "markdown",
      "metadata": {
        "id": "BGxinETn5K15"
      },
      "source": [
        "## Obraz testowy"
      ]
    },
    {
      "cell_type": "code",
      "metadata": {
        "id": "4u9aVxFOF_aZ"
      },
      "source": [
        "img = cv2.imread(\"2_Demonstration_Demonstration_Or_Protest_2_1.jpg\")\n",
        "gray = cv2.cvtColor(img, cv2.COLOR_BGR2GRAY)\n",
        "rgb = cv2.cvtColor(img, cv2.COLOR_BGR2RGB)\n",
        "\n",
        "cv2_imshow(img)"
      ],
      "execution_count": null,
      "outputs": []
    },
    {
      "cell_type": "markdown",
      "metadata": {
        "id": "OttR_7b_IKS7"
      },
      "source": [
        "## Kaskada Haara\n",
        "\n",
        "Opracowano na podstawie: https://www.pyimagesearch.com/2021/04/05/opencv-face-detection-with-haar-cascades/"
      ]
    },
    {
      "cell_type": "code",
      "metadata": {
        "id": "VzJr4nUVCE_c"
      },
      "source": [
        "haar_detector = cv2.CascadeClassifier(\"haarcascade_frontalface_default.xml\")"
      ],
      "execution_count": null,
      "outputs": []
    },
    {
      "cell_type": "code",
      "metadata": {
        "id": "0uQ2T_C5GH7S"
      },
      "source": [
        "rects = haar_detector.detectMultiScale(gray, scaleFactor=1.05,\n",
        "\t                                minNeighbors=5, minSize=(30, 30),\n",
        "\t                                flags=cv2.CASCADE_SCALE_IMAGE)\n",
        "\n",
        "img_haar = img.copy()\n",
        "for (x, y, w, h) in rects:\n",
        "  cv2.rectangle(img_haar, (x, y), (x + w, y + h), (0, 255, 0), 2)\n",
        "cv2_imshow(img_haar)\n"
      ],
      "execution_count": null,
      "outputs": []
    },
    {
      "cell_type": "markdown",
      "metadata": {
        "id": "rdWKPv1RIFkE"
      },
      "source": [
        "## Histogram zorientowanych gradientów (HOG) z maszyną wektorów nośnych (SVM)\n",
        "\n",
        "Opracowano na podstawie: https://www.pyimagesearch.com/2021/04/19/face-detection-with-dlib-hog-and-cnn/"
      ]
    },
    {
      "cell_type": "code",
      "metadata": {
        "id": "eC4Tf9PnIRTj"
      },
      "source": [
        "hog_svm_detector = dlib.get_frontal_face_detector()"
      ],
      "execution_count": null,
      "outputs": []
    },
    {
      "cell_type": "code",
      "metadata": {
        "id": "5BW_GcHoIbxK"
      },
      "source": [
        "hog_svm_rects = hog_svm_detector(rgb, 1)"
      ],
      "execution_count": null,
      "outputs": []
    },
    {
      "cell_type": "code",
      "metadata": {
        "id": "rWzMYmdjObXo"
      },
      "source": [
        "def convert_and_trim_bb(image, rect):\n",
        "\t# extract the starting and ending (x, y)-coordinates of the\n",
        "\t# bounding box\n",
        "\tstartX = rect.left()\n",
        "\tstartY = rect.top()\n",
        "\tendX = rect.right()\n",
        "\tendY = rect.bottom()\n",
        "\t# ensure the bounding box coordinates fall within the spatial\n",
        "\t# dimensions of the image\n",
        "\tstartX = max(0, startX)\n",
        "\tstartY = max(0, startY)\n",
        "\tendX = min(endX, image.shape[1])\n",
        "\tendY = min(endY, image.shape[0])\n",
        "\t# compute the width and height of the bounding box\n",
        "\tw = endX - startX\n",
        "\th = endY - startY\n",
        "\t# return our bounding box coordinates\n",
        "\treturn (startX, startY, w, h)"
      ],
      "execution_count": null,
      "outputs": []
    },
    {
      "cell_type": "code",
      "metadata": {
        "id": "GEhDJvWYOmXO"
      },
      "source": [
        "hog_svm_boxes = [convert_and_trim_bb(img, r) for r in hog_svm_rects]\n",
        "\n",
        "img_hog_svm = img.copy()\n",
        "for (x, y, w, h) in hog_svm_boxes:\n",
        "\tcv2.rectangle(img_hog_svm, (x, y), (x + w, y + h), (0, 255, 0), 2)\n",
        " \n",
        "cv2_imshow(img_hog_svm)"
      ],
      "execution_count": null,
      "outputs": []
    },
    {
      "cell_type": "markdown",
      "metadata": {
        "id": "-05vni26Px5J"
      },
      "source": [
        "## Splotowa sieć neuronowa (CNN)\n",
        "\n",
        "Opracowano na podstawie: https://www.pyimagesearch.com/2021/04/19/face-detection-with-dlib-hog-and-cnn/"
      ]
    },
    {
      "cell_type": "code",
      "metadata": {
        "id": "JSmzL4FxPLaA"
      },
      "source": [
        "cnn_detector = dlib.cnn_face_detection_model_v1('mmod_human_face_detector.dat')"
      ],
      "execution_count": null,
      "outputs": []
    },
    {
      "cell_type": "code",
      "metadata": {
        "id": "IQZr4rh3Q8HM"
      },
      "source": [
        "cnn_rects = cnn_detector(rgb, 1)"
      ],
      "execution_count": null,
      "outputs": []
    },
    {
      "cell_type": "code",
      "metadata": {
        "id": "kgPDzLrAStOF"
      },
      "source": [
        "cnn_boxes = [convert_and_trim_bb(img, r.rect) for r in cnn_rects]\n",
        "\n",
        "img_cnn = img.copy()\n",
        "for (x, y, w, h) in cnn_boxes:\n",
        "\tcv2.rectangle(img_cnn, (x, y), (x + w, y + h), (0, 255, 0), 2)\n",
        " \n",
        "cv2_imshow(img_cnn)"
      ],
      "execution_count": null,
      "outputs": []
    },
    {
      "cell_type": "code",
      "metadata": {
        "id": "D7Shs8guS2aW"
      },
      "source": [
        ""
      ],
      "execution_count": null,
      "outputs": []
    }
  ]
}